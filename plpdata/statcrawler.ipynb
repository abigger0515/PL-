{
 "cells": [
  {
   "cell_type": "code",
   "execution_count": 24,
   "metadata": {},
   "outputs": [],
   "source": [
    "import requests\n",
    "import pandas as pd\n",
    "from bs4 import BeautifulSoup\n",
    "from datetime import datetime\n",
    "import json"
   ]
  },
  {
   "cell_type": "code",
   "execution_count": 52,
   "metadata": {},
   "outputs": [],
   "source": [
    "def header():\n",
    "    return {\n",
    "        # \"accept\": \"application/json, text/javascript, */*; q=0.01\",\n",
    "        # \"accept-encoding\": \"gzip, deflate, br\",\n",
    "        # \"accept-language\": \"zh-TW,zh;q=0.9,en-US;q=0.8,en;q=0.7,zh-CN;q=0.6\",\n",
    "        # \"cookie\": \"PHPSESSID=6qbctjqkjpcq6akosbsnosc7f9; _ga=GA1.1.2039077758.1649901582; _ga_E4T1HDWQ3D=GS1.1.1650807763.5.1.1650808386.58\",\n",
    "        # # \"referer\": \"https://pleagueofficial.com/game/151\",\n",
    "        # \"sec-ch-ua\": '''\" Not A;Brand\";v=\"99\", \"Chromium\";v=\"100\", \"Google Chrome\";v=\"100\"''',\n",
    "        # \"sec-ch-ua-mobile\": \"?1\",\n",
    "        # \"sec-ch-ua-platform\": \"'Android'\",\n",
    "        # \"sec-fetch-dest\": \"empty\",\n",
    "        # \"sec-fetch-mode\": \"cors\",\n",
    "        # \"sec-fetch-site\": \"same-origin\",\n",
    "        # \"user-agent\": \"Mozilla/5.0 (Linux; Android 6.0; Nexus 5 Build/MRA58N) AppleWebKit/537.36 (KHTML, like Gecko) Chrome/100.0.4896.88 Mobile Safari/537.36\",\n",
    "        # \"x-requested-with\": \"XMLHttpRequest\",\n",
    "        \n",
    "\n",
    "\n",
    "        \"accept\": \"application/json, text/javascript, */*; q=0.01\",\n",
    "        \"accept-encoding\": \"gzip, deflate\",\n",
    "        \"accept-language\": \"zh-TW,zh;q=0.9,en-US;q=0.8,en;q=0.7,zh-CN;q=0.6\",\n",
    "        \"referer\": 'https://pleagueofficial.com/game/73',\n",
    "        \"user-agent\": \"Mozilla/5.0 (Macintosh; Intel Mac OS X 10_15_1) AppleWebKit/537.36 (KHTML, like Gecko) Chrome/98.0.4758.102 Safari/537.36\",\n",
    "        \"x-requested-with\": \"XMLHttpRequest\",\n",
    "    }\n"
   ]
  },
  {
   "cell_type": "code",
   "execution_count": 53,
   "metadata": {},
   "outputs": [
    {
     "data": {
      "text/plain": [
       "{'accept': 'application/json, text/javascript, */*; q=0.01',\n",
       " 'accept-encoding': 'gzip, deflate',\n",
       " 'accept-language': 'zh-TW,zh;q=0.9,en-US;q=0.8,en;q=0.7,zh-CN;q=0.6',\n",
       " 'referer': 'https://pleagueofficial.com/game/73',\n",
       " 'user-agent': 'Mozilla/5.0 (Macintosh; Intel Mac OS X 10_15_1) AppleWebKit/537.36 (KHTML, like Gecko) Chrome/98.0.4758.102 Safari/537.36',\n",
       " 'x-requested-with': 'XMLHttpRequest'}"
      ]
     },
     "execution_count": 53,
     "metadata": {},
     "output_type": "execute_result"
    }
   ],
   "source": [
    "header()"
   ]
  },
  {
   "cell_type": "code",
   "execution_count": 54,
   "metadata": {},
   "outputs": [],
   "source": [
    "game_id = 180\n",
    "url = f\"https://pleagueofficial.com/api/boxscore.php?id={game_id}&away_tab=total&home_tab=total\"\n",
    "\n",
    "res = requests.get(\n",
    "    url, headers=header()\n",
    ")\n",
    "\n",
    "# res.encoding = 'utf-8'"
   ]
  },
  {
   "cell_type": "code",
   "execution_count": 58,
   "metadata": {},
   "outputs": [],
   "source": [
    "res.json()['data']['home']"
   ]
  },
  {
   "cell_type": "code",
   "execution_count": 62,
   "metadata": {},
   "outputs": [
    {
     "data": {
      "text/plain": [
       "dict_keys(['q1_home', 'q1_away', 'q2_home', 'q2_away', 'q3_home', 'q3_away', 'q4_home', 'q4_away', 'ot1_home', 'ot1_away', 'ot2_home', 'ot2_away', 'score_home', 'score_away', 'home', 'home_total', 'away', 'away_total'])"
      ]
     },
     "execution_count": 62,
     "metadata": {},
     "output_type": "execute_result"
    }
   ],
   "source": [
    "res.json()['data'].keys()"
   ]
  },
  {
   "cell_type": "code",
   "execution_count": 56,
   "metadata": {},
   "outputs": [],
   "source": [
    "url = f\"https://pleagueofficial.com/game/{game_id}\"\n",
    "\n",
    "response = requests.get(url)\n",
    "soup = BeautifulSoup(response.text, \"html.parser\")\n",
    "# print(soup.prettify())  #輸出排版後的HTML內容"
   ]
  },
  {
   "cell_type": "code",
   "execution_count": 57,
   "metadata": {},
   "outputs": [
    {
     "name": "stdout",
     "output_type": "stream",
     "text": [
      "['PLAYOFFS', 'Game7', '例行賽第四', 'VS', '例行賽第一│P.', 'LEAGUE+']\n",
      "PLAYOFFS Game7 例行賽第一 例行賽第四\n"
     ]
    }
   ],
   "source": [
    "game_info = soup.find(\"title\").getText().split(\" \")\n",
    "print(game_info) # away | home\n",
    "\n",
    "if len(game_info) == 5: \n",
    "    game_type = game_info[0].split('G')[0]\n",
    "    game_number = game_info[0].split('G')[1]\n",
    "    home = game_info[1]\n",
    "    away = game_info[3].split('│')[0]\n",
    "else:\n",
    "    game_type = game_info[0]\n",
    "    game_number = game_info[1]\n",
    "    home = game_info[2]\n",
    "    away = game_info[4].split('│')[0]\n",
    "\n",
    "print(game_type, game_number, away, home)"
   ]
  },
  {
   "cell_type": "code",
   "execution_count": null,
   "metadata": {},
   "outputs": [],
   "source": [
    "['第一站熱身賽', 'G03', '新北國王', 'VS', '臺北富邦勇士│P.', 'LEAGUE+']\n",
    "['例行賽G84', '桃園領航猿', 'VS', '新竹街口攻城獅│P.', 'LEAGUE+']\n",
    "['FINALS', 'Game5', '臺北富邦勇士', 'VS', '福爾摩沙台新夢想家│P.', 'LEAGUE+']\n",
    "\n"
   ]
  },
  {
   "cell_type": "code",
   "execution_count": 69,
   "metadata": {},
   "outputs": [],
   "source": [
    "def get_season(play_time) -> str:\n",
    "    current_year = play_time.year\n",
    "\n",
    "    if play_time > datetime(current_year, 10, 1):\n",
    "        season = f\"{current_year}-{current_year+1}\"\n",
    "    else:\n",
    "        season = f\"{current_year-1}-{current_year}\"\n",
    "    return season"
   ]
  },
  {
   "cell_type": "code",
   "execution_count": 70,
   "metadata": {},
   "outputs": [
    {
     "name": "stdout",
     "output_type": "stream",
     "text": [
      "2021-05-16 19:00:00 彰化縣立體育館 2020-2021\n"
     ]
    }
   ],
   "source": [
    "time_and_place = soup.find(\"span\", class_=\"fs14\").getText().split(\" \")\n",
    "play_time = datetime.strptime(' '.join(time_and_place[1:3]), '%Y-%m-%d %H:%M')\n",
    "season = get_season(play_time)\n",
    "location = time_and_place[-1]\n",
    "print(play_time, location, season) # Season: Nov. ~ May"
   ]
  },
  {
   "cell_type": "code",
   "execution_count": null,
   "metadata": {},
   "outputs": [],
   "source": []
  }
 ],
 "metadata": {
  "interpreter": {
   "hash": "94b50236ea4a8aed2d9f34ed56418934fbb2b0e9f45ec485e1cf3741349522d3"
  },
  "kernelspec": {
   "display_name": "Python 3.6.15 ('base')",
   "language": "python",
   "name": "python3"
  },
  "language_info": {
   "codemirror_mode": {
    "name": "ipython",
    "version": 3
   },
   "file_extension": ".py",
   "mimetype": "text/x-python",
   "name": "python",
   "nbconvert_exporter": "python",
   "pygments_lexer": "ipython3",
   "version": "3.8.2"
  },
  "orig_nbformat": 4
 },
 "nbformat": 4,
 "nbformat_minor": 2
}
